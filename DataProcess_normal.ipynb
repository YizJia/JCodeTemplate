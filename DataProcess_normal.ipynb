{
 "cells": [
  {
   "cell_type": "markdown",
   "metadata": {},
   "source": [
    "## 1.读取数据"
   ]
  },
  {
   "cell_type": "code",
   "execution_count": 1,
   "metadata": {},
   "outputs": [],
   "source": [
    "# Read data in txt files in batches.\n",
    "import os\n",
    "import numpy as np\n",
    "import pandas as pd\n",
    "pd.set_option('display.max_columns', None) #show all columns\n",
    "pd.set_option('display.max_columns', 100) #show 100 lines\n",
    "pd.set_option('display.width', 5000) #Set the display width to avoid text wrapping \n",
    "\n",
    "def read_data_batches(dir_name, data_title):\n",
    "    path = \"E:\\\\ProgramNew\\\\Pfile_jupyter\\\\Module21\\\\UBW_data\"\n",
    "    datapath = os.path.join(path, dir_name, \"\")\n",
    "    # print(datapath)\n",
    "\n",
    "    files = os.listdir(datapath)    # Get all names in this folder\n",
    "    print(\"Total file: \" + str(len(files)))\n",
    "    txts = []\n",
    "    txts.append(data_title)\n",
    "#     i = 0\n",
    "\n",
    "    for file in files:\n",
    "        position = os.path.join(datapath, file)  # Construct an absolute path\n",
    "        # Get the index for the file\n",
    "        file_index = file.split('.')[0]\n",
    "\n",
    "        # Read file\n",
    "        with open(position, \"r\", encoding='UTF-8') as f:\n",
    "            lines = f.readlines()\n",
    "#             if i == 0:\n",
    "#                 line_title = lines[0]\n",
    "#                 line_title = line_title.split(':')\n",
    "#                 line_title.append('FileIndex')\n",
    "#                 txts.append(line_title)\n",
    "            for line in lines[1:]:\n",
    "                line=line.strip('\\n')\n",
    "                line_split = line.split(':')\n",
    "                line_split.append(file_index)\n",
    "                txts.append(line_split)\n",
    "#             i = i + 1\n",
    "            f.close()\n",
    "\n",
    "    return txts"
   ]
  },
  {
   "cell_type": "code",
   "execution_count": 2,
   "metadata": {},
   "outputs": [],
   "source": [
    "# Construct a CSV file\n",
    "import csv\n",
    "import codecs\n",
    "\n",
    "def data_write_csv(file_name, datas):\n",
    "#     file_csv = codecs.open(file_name, 'w', 'utf-8')\n",
    "#     writer = csv.writer(file_csv, delimiter=' ', quotechar=' ', quoting=csv.QUOTE_MINIMAL)\n",
    "#     for data in datas:\n",
    "#         writer.writerow(data)\n",
    "#     print(\"File saved, processing end!\")\n",
    "\n",
    "    f = open(file_name, 'w', encoding='utf-8', newline='')\n",
    "    writer = csv.writer(f)\n",
    "    for data in datas:\n",
    "        writer.writerow(data)\n",
    "    f.close\n",
    "    print(\"File saved, processing end!\")"
   ]
  },
  {
   "cell_type": "code",
   "execution_count": 3,
   "metadata": {},
   "outputs": [
    {
     "name": "stdout",
     "output_type": "stream",
     "text": [
      "Total file: 324\n",
      "308489\n"
     ]
    }
   ],
   "source": [
    "data_txt = []\n",
    "original_data_title = [\"T\", \"Time\", \"RangeReport\", \"TagID\", \"AnchorID\", \"Dis\", \"DisCheck\", \"DataSerialNum\", \"DataNum\", \"FileIndex\"]\n",
    "data_txt = read_data_batches(\"正常数据\", original_data_title)\n",
    "print(len(data_txt))"
   ]
  },
  {
   "cell_type": "code",
   "execution_count": 4,
   "metadata": {},
   "outputs": [
    {
     "name": "stdout",
     "output_type": "stream",
     "text": [
      "File saved, processing end!\n"
     ]
    }
   ],
   "source": [
    "data_write_csv('normal.csv', data_txt)"
   ]
  },
  {
   "cell_type": "code",
   "execution_count": 5,
   "metadata": {},
   "outputs": [
    {
     "name": "stdout",
     "output_type": "stream",
     "text": [
      "[['T', 'Time', 'RangeReport', 'TagID', 'AnchorID', 'Dis', 'DisCheck', 'DataSerialNum', 'DataNum', 'FileIndex'], ['T', '090531088', 'RR', '0', '0', '760', '760', '229', '3301', '1'], ['T', '090531088', 'RR', '0', '1', '4550', '4550', '229', '3301', '1'], ['T', '090531088', 'RR', '0', '2', '4550', '4550', '229', '3301', '1'], ['T', '090531088', 'RR', '0', '3', '6300', '6300', '229', '3301', '1']]\n"
     ]
    }
   ],
   "source": [
    "print(data_txt[:5])"
   ]
  },
  {
   "cell_type": "markdown",
   "metadata": {},
   "source": [
    "## 2.展示数据的信息"
   ]
  },
  {
   "cell_type": "code",
   "execution_count": 6,
   "metadata": {},
   "outputs": [
    {
     "name": "stdout",
     "output_type": "stream",
     "text": [
      "Head entries of data:\n",
      "   T       Time RangeReport TagID AnchorID   Dis DisCheck DataSerialNum DataNum FileIndex\n",
      "0  T  090531088          RR     0        0   760      760           229    3301         1\n",
      "1  T  090531088          RR     0        1  4550     4550           229    3301         1\n",
      "2  T  090531088          RR     0        2  4550     4550           229    3301         1\n",
      "3  T  090531088          RR     0        3  6300     6300           229    3301         1\n",
      "4  T  090531296          RR     0        0   760      760           230    3302         1\n",
      "############################################################\n",
      "The shape of data:\n",
      "(308488, 10)\n"
     ]
    }
   ],
   "source": [
    "pd_data_txt = pd.DataFrame(data_txt[1:], columns=data_txt[0])\n",
    "print(\"Head entries of data:\")\n",
    "print(pd_data_txt.head())\n",
    "print(60 * '#')\n",
    "print(\"The shape of data:\")\n",
    "print(pd_data_txt.shape)"
   ]
  },
  {
   "cell_type": "code",
   "execution_count": 7,
   "metadata": {},
   "outputs": [
    {
     "name": "stdout",
     "output_type": "stream",
     "text": [
      "The describe of data:\n",
      "             T       Time RangeReport   TagID AnchorID     Dis DisCheck DataSerialNum DataNum FileIndex\n",
      "count   308488     308488      308488  308488   308488  308488   308488        308488  308488    308488\n",
      "unique       1      93142           1       1        4     584      584           256   42630       324\n",
      "top          T  173103910          RR       0        3    4550     4550           244    4649       179\n",
      "freq    308488         52      308488  308488    77122    3479     3479          1272      28      1716\n",
      "############################################################\n",
      "Information for data:\n",
      "<class 'pandas.core.frame.DataFrame'>\n",
      "RangeIndex: 308488 entries, 0 to 308487\n",
      "Data columns (total 10 columns):\n",
      " #   Column         Non-Null Count   Dtype \n",
      "---  ------         --------------   ----- \n",
      " 0   T              308488 non-null  object\n",
      " 1   Time           308488 non-null  object\n",
      " 2   RangeReport    308488 non-null  object\n",
      " 3   TagID          308488 non-null  object\n",
      " 4   AnchorID       308488 non-null  object\n",
      " 5   Dis            308488 non-null  object\n",
      " 6   DisCheck       308488 non-null  object\n",
      " 7   DataSerialNum  308488 non-null  object\n",
      " 8   DataNum        308488 non-null  object\n",
      " 9   FileIndex      308488 non-null  object\n",
      "dtypes: object(10)\n",
      "memory usage: 23.5+ MB\n",
      "None\n"
     ]
    }
   ],
   "source": [
    "print(\"The describe of data:\")\n",
    "print(pd_data_txt.describe())\n",
    "print(60 * '#')\n",
    "print(\"Information for data:\")\n",
    "print(pd_data_txt.info())"
   ]
  },
  {
   "cell_type": "code",
   "execution_count": 8,
   "metadata": {},
   "outputs": [],
   "source": [
    "# show something useful information of data\n",
    "def show_unique_miss(mydata):\n",
    "    stats = []\n",
    "    for col in mydata.columns:\n",
    "        stats.append((col, mydata[col].nunique(),\n",
    "                     mydata[col].isnull().sum() * 100/mydata.shape[0], \n",
    "                     mydata[col].value_counts(normalize=True, dropna=False).values[0] * 100,\n",
    "                     mydata[col].dtype))\n",
    "        stats_df = pd.DataFrame(stats, columns=['Feature', 'Unique_values', 'Percentage of missing values', \n",
    "                                               'Percentage of values in the biggest category', 'type'])\n",
    "\n",
    "#     plot the missing infromation\n",
    "#     missing = mydata.isnull().sum()\n",
    "#     missing = missing[missing > 0]\n",
    "#     missing.sort_values(inplace=True)\n",
    "#     missing.plot.bar()\n",
    "    \n",
    "    return stats_df.sort_values('Percentage of missing values', ascending=False)"
   ]
  },
  {
   "cell_type": "markdown",
   "metadata": {},
   "source": [
    "**Note：** \n",
    "1. nunique值为1是不具备任何意义的，各种值都一样，不存在区分性，应当删除\n",
    "2. 变量缺失值很多，如达到95%以上，亦可以考虑删除\n",
    "\n",
    "下面将调用方法统计不同特征的unique值和缺失值信息"
   ]
  },
  {
   "cell_type": "code",
   "execution_count": 9,
   "metadata": {},
   "outputs": [
    {
     "data": {
      "text/html": [
       "<div>\n",
       "<style scoped>\n",
       "    .dataframe tbody tr th:only-of-type {\n",
       "        vertical-align: middle;\n",
       "    }\n",
       "\n",
       "    .dataframe tbody tr th {\n",
       "        vertical-align: top;\n",
       "    }\n",
       "\n",
       "    .dataframe thead th {\n",
       "        text-align: right;\n",
       "    }\n",
       "</style>\n",
       "<table border=\"1\" class=\"dataframe\">\n",
       "  <thead>\n",
       "    <tr style=\"text-align: right;\">\n",
       "      <th></th>\n",
       "      <th>Feature</th>\n",
       "      <th>Unique_values</th>\n",
       "      <th>Percentage of missing values</th>\n",
       "      <th>Percentage of values in the biggest category</th>\n",
       "      <th>type</th>\n",
       "    </tr>\n",
       "  </thead>\n",
       "  <tbody>\n",
       "    <tr>\n",
       "      <th>0</th>\n",
       "      <td>T</td>\n",
       "      <td>1</td>\n",
       "      <td>0.0</td>\n",
       "      <td>100.000000</td>\n",
       "      <td>object</td>\n",
       "    </tr>\n",
       "    <tr>\n",
       "      <th>1</th>\n",
       "      <td>Time</td>\n",
       "      <td>93142</td>\n",
       "      <td>0.0</td>\n",
       "      <td>0.016856</td>\n",
       "      <td>object</td>\n",
       "    </tr>\n",
       "    <tr>\n",
       "      <th>2</th>\n",
       "      <td>RangeReport</td>\n",
       "      <td>1</td>\n",
       "      <td>0.0</td>\n",
       "      <td>100.000000</td>\n",
       "      <td>object</td>\n",
       "    </tr>\n",
       "    <tr>\n",
       "      <th>3</th>\n",
       "      <td>TagID</td>\n",
       "      <td>1</td>\n",
       "      <td>0.0</td>\n",
       "      <td>100.000000</td>\n",
       "      <td>object</td>\n",
       "    </tr>\n",
       "    <tr>\n",
       "      <th>4</th>\n",
       "      <td>AnchorID</td>\n",
       "      <td>4</td>\n",
       "      <td>0.0</td>\n",
       "      <td>25.000000</td>\n",
       "      <td>object</td>\n",
       "    </tr>\n",
       "    <tr>\n",
       "      <th>5</th>\n",
       "      <td>Dis</td>\n",
       "      <td>584</td>\n",
       "      <td>0.0</td>\n",
       "      <td>1.127759</td>\n",
       "      <td>object</td>\n",
       "    </tr>\n",
       "    <tr>\n",
       "      <th>6</th>\n",
       "      <td>DisCheck</td>\n",
       "      <td>584</td>\n",
       "      <td>0.0</td>\n",
       "      <td>1.127759</td>\n",
       "      <td>object</td>\n",
       "    </tr>\n",
       "    <tr>\n",
       "      <th>7</th>\n",
       "      <td>DataSerialNum</td>\n",
       "      <td>256</td>\n",
       "      <td>0.0</td>\n",
       "      <td>0.412334</td>\n",
       "      <td>object</td>\n",
       "    </tr>\n",
       "    <tr>\n",
       "      <th>8</th>\n",
       "      <td>DataNum</td>\n",
       "      <td>42630</td>\n",
       "      <td>0.0</td>\n",
       "      <td>0.009077</td>\n",
       "      <td>object</td>\n",
       "    </tr>\n",
       "    <tr>\n",
       "      <th>9</th>\n",
       "      <td>FileIndex</td>\n",
       "      <td>324</td>\n",
       "      <td>0.0</td>\n",
       "      <td>0.556262</td>\n",
       "      <td>object</td>\n",
       "    </tr>\n",
       "  </tbody>\n",
       "</table>\n",
       "</div>"
      ],
      "text/plain": [
       "         Feature  Unique_values  Percentage of missing values  Percentage of values in the biggest category    type\n",
       "0              T              1                           0.0                                    100.000000  object\n",
       "1           Time          93142                           0.0                                      0.016856  object\n",
       "2    RangeReport              1                           0.0                                    100.000000  object\n",
       "3          TagID              1                           0.0                                    100.000000  object\n",
       "4       AnchorID              4                           0.0                                     25.000000  object\n",
       "5            Dis            584                           0.0                                      1.127759  object\n",
       "6       DisCheck            584                           0.0                                      1.127759  object\n",
       "7  DataSerialNum            256                           0.0                                      0.412334  object\n",
       "8        DataNum          42630                           0.0                                      0.009077  object\n",
       "9      FileIndex            324                           0.0                                      0.556262  object"
      ]
     },
     "execution_count": 9,
     "metadata": {},
     "output_type": "execute_result"
    }
   ],
   "source": [
    "data_unique_miss = show_unique_miss(pd_data_txt)\n",
    "data_unique_miss"
   ]
  },
  {
   "cell_type": "markdown",
   "metadata": {},
   "source": [
    "# 3.四合一构造数据集"
   ]
  },
  {
   "cell_type": "markdown",
   "metadata": {},
   "source": [
    "结合上面表格分析,可以将Unique_values值为1的特征删除,也意味着:T\\RangeReport和TagID将被删除"
   ]
  },
  {
   "cell_type": "code",
   "execution_count": 10,
   "metadata": {},
   "outputs": [
    {
     "data": {
      "text/html": [
       "<div>\n",
       "<style scoped>\n",
       "    .dataframe tbody tr th:only-of-type {\n",
       "        vertical-align: middle;\n",
       "    }\n",
       "\n",
       "    .dataframe tbody tr th {\n",
       "        vertical-align: top;\n",
       "    }\n",
       "\n",
       "    .dataframe thead th {\n",
       "        text-align: right;\n",
       "    }\n",
       "</style>\n",
       "<table border=\"1\" class=\"dataframe\">\n",
       "  <thead>\n",
       "    <tr style=\"text-align: right;\">\n",
       "      <th></th>\n",
       "      <th>Time</th>\n",
       "      <th>AnchorID</th>\n",
       "      <th>Dis</th>\n",
       "      <th>DisCheck</th>\n",
       "      <th>DataSerialNum</th>\n",
       "      <th>DataNum</th>\n",
       "      <th>FileIndex</th>\n",
       "    </tr>\n",
       "  </thead>\n",
       "  <tbody>\n",
       "    <tr>\n",
       "      <th>0</th>\n",
       "      <td>090531088</td>\n",
       "      <td>0</td>\n",
       "      <td>760</td>\n",
       "      <td>760</td>\n",
       "      <td>229</td>\n",
       "      <td>3301</td>\n",
       "      <td>1</td>\n",
       "    </tr>\n",
       "    <tr>\n",
       "      <th>1</th>\n",
       "      <td>090531088</td>\n",
       "      <td>1</td>\n",
       "      <td>4550</td>\n",
       "      <td>4550</td>\n",
       "      <td>229</td>\n",
       "      <td>3301</td>\n",
       "      <td>1</td>\n",
       "    </tr>\n",
       "    <tr>\n",
       "      <th>2</th>\n",
       "      <td>090531088</td>\n",
       "      <td>2</td>\n",
       "      <td>4550</td>\n",
       "      <td>4550</td>\n",
       "      <td>229</td>\n",
       "      <td>3301</td>\n",
       "      <td>1</td>\n",
       "    </tr>\n",
       "    <tr>\n",
       "      <th>3</th>\n",
       "      <td>090531088</td>\n",
       "      <td>3</td>\n",
       "      <td>6300</td>\n",
       "      <td>6300</td>\n",
       "      <td>229</td>\n",
       "      <td>3301</td>\n",
       "      <td>1</td>\n",
       "    </tr>\n",
       "    <tr>\n",
       "      <th>4</th>\n",
       "      <td>090531296</td>\n",
       "      <td>0</td>\n",
       "      <td>760</td>\n",
       "      <td>760</td>\n",
       "      <td>230</td>\n",
       "      <td>3302</td>\n",
       "      <td>1</td>\n",
       "    </tr>\n",
       "  </tbody>\n",
       "</table>\n",
       "</div>"
      ],
      "text/plain": [
       "        Time AnchorID   Dis DisCheck DataSerialNum DataNum FileIndex\n",
       "0  090531088        0   760      760           229    3301         1\n",
       "1  090531088        1  4550     4550           229    3301         1\n",
       "2  090531088        2  4550     4550           229    3301         1\n",
       "3  090531088        3  6300     6300           229    3301         1\n",
       "4  090531296        0   760      760           230    3302         1"
      ]
     },
     "execution_count": 10,
     "metadata": {},
     "output_type": "execute_result"
    }
   ],
   "source": [
    "pd_data_new = pd_data_txt.drop(['T', 'RangeReport', 'TagID'], axis = 1)\n",
    "pd_data_new.head()"
   ]
  },
  {
   "cell_type": "code",
   "execution_count": 11,
   "metadata": {},
   "outputs": [
    {
     "data": {
      "text/plain": [
       "[['090531088', '0', '760', '760', '229', '3301', '1'],\n",
       " ['090531088', '1', '4550', '4550', '229', '3301', '1'],\n",
       " ['090531088', '2', '4550', '4550', '229', '3301', '1'],\n",
       " ['090531088', '3', '6300', '6300', '229', '3301', '1'],\n",
       " ['090531296', '0', '760', '760', '230', '3302', '1']]"
      ]
     },
     "execution_count": 11,
     "metadata": {},
     "output_type": "execute_result"
    }
   ],
   "source": [
    "# Operate on the original data, and merge 1 set of test results into one line.\n",
    "data_txt_new = pd_data_new.values.tolist()\n",
    "data_txt_new[:5]"
   ]
  },
  {
   "cell_type": "code",
   "execution_count": 12,
   "metadata": {},
   "outputs": [],
   "source": [
    "# fout lines merget to one line\n",
    "def four_merge_one(mydatas, data_title):\n",
    "    newdata = []\n",
    "    newdata.append(data_title)\n",
    "    # Append other data\n",
    "    key_append = 0\n",
    "    data = []\n",
    "    for mydata in mydatas:\n",
    "        if key_append == int(mydata[1]):\n",
    "            if key_append == 0:\n",
    "                data.extend(mydata[0:4])\n",
    "                key_append = key_append+1\n",
    "            elif key_append == 1:\n",
    "                data.extend(mydata[1:4])\n",
    "                key_append = key_append+1\n",
    "            elif key_append == 2:\n",
    "                data.extend(mydata[1:4])\n",
    "                key_append = key_append+1\n",
    "            else:\n",
    "                data.extend(mydata[1:])\n",
    "                key_append = 0\n",
    "                newdata.append(data)\n",
    "                data = []\n",
    "        else:        \n",
    "            newdata.append(data)\n",
    "            data = []\n",
    "            key_append = int(mydata[1])\n",
    "            data.extend(mydata[0:4])\n",
    "            key_append = key_append+1\n",
    "            \n",
    "    return newdata"
   ]
  },
  {
   "cell_type": "code",
   "execution_count": 13,
   "metadata": {},
   "outputs": [
    {
     "name": "stdout",
     "output_type": "stream",
     "text": [
      "Total: 77123\n",
      "File saved, processing end!\n"
     ]
    }
   ],
   "source": [
    "merge_data_title = []\n",
    "merge_data_title = [\"Time\", \"AnchorID0\", \"Dis0\", \"DisCheck0\", \"AnchorID1\", \"Dis1\", \"DisCheck1\",\n",
    "                \"AnchorID2\", \"Dis2\", \"DisCheck2\", \"AnchorID3\", \"Dis3\", \"DisCheck3\", \"DataSerialNum\", \"DataNum\", \"FileIndex\"]\n",
    "\n",
    "merge_data = four_merge_one(data_txt_new, merge_data_title)\n",
    "\n",
    "print(\"Total: \" + str(len(merge_data)))\n",
    "data_write_csv('normal_merge.csv', merge_data)"
   ]
  },
  {
   "cell_type": "code",
   "execution_count": 14,
   "metadata": {},
   "outputs": [
    {
     "data": {
      "text/html": [
       "<div>\n",
       "<style scoped>\n",
       "    .dataframe tbody tr th:only-of-type {\n",
       "        vertical-align: middle;\n",
       "    }\n",
       "\n",
       "    .dataframe tbody tr th {\n",
       "        vertical-align: top;\n",
       "    }\n",
       "\n",
       "    .dataframe thead th {\n",
       "        text-align: right;\n",
       "    }\n",
       "</style>\n",
       "<table border=\"1\" class=\"dataframe\">\n",
       "  <thead>\n",
       "    <tr style=\"text-align: right;\">\n",
       "      <th></th>\n",
       "      <th>Time</th>\n",
       "      <th>AnchorID0</th>\n",
       "      <th>Dis0</th>\n",
       "      <th>DisCheck0</th>\n",
       "      <th>AnchorID1</th>\n",
       "      <th>Dis1</th>\n",
       "      <th>DisCheck1</th>\n",
       "      <th>AnchorID2</th>\n",
       "      <th>Dis2</th>\n",
       "      <th>DisCheck2</th>\n",
       "      <th>AnchorID3</th>\n",
       "      <th>Dis3</th>\n",
       "      <th>DisCheck3</th>\n",
       "      <th>DataSerialNum</th>\n",
       "      <th>DataNum</th>\n",
       "      <th>FileIndex</th>\n",
       "    </tr>\n",
       "  </thead>\n",
       "  <tbody>\n",
       "    <tr>\n",
       "      <th>0</th>\n",
       "      <td>090531088</td>\n",
       "      <td>0</td>\n",
       "      <td>760</td>\n",
       "      <td>760</td>\n",
       "      <td>1</td>\n",
       "      <td>4550</td>\n",
       "      <td>4550</td>\n",
       "      <td>2</td>\n",
       "      <td>4550</td>\n",
       "      <td>4550</td>\n",
       "      <td>3</td>\n",
       "      <td>6300</td>\n",
       "      <td>6300</td>\n",
       "      <td>229</td>\n",
       "      <td>3301</td>\n",
       "      <td>1</td>\n",
       "    </tr>\n",
       "    <tr>\n",
       "      <th>1</th>\n",
       "      <td>090531296</td>\n",
       "      <td>0</td>\n",
       "      <td>760</td>\n",
       "      <td>760</td>\n",
       "      <td>1</td>\n",
       "      <td>4550</td>\n",
       "      <td>4550</td>\n",
       "      <td>2</td>\n",
       "      <td>4550</td>\n",
       "      <td>4550</td>\n",
       "      <td>3</td>\n",
       "      <td>6300</td>\n",
       "      <td>6300</td>\n",
       "      <td>230</td>\n",
       "      <td>3302</td>\n",
       "      <td>1</td>\n",
       "    </tr>\n",
       "    <tr>\n",
       "      <th>2</th>\n",
       "      <td>090531513</td>\n",
       "      <td>0</td>\n",
       "      <td>770</td>\n",
       "      <td>770</td>\n",
       "      <td>1</td>\n",
       "      <td>4550</td>\n",
       "      <td>4550</td>\n",
       "      <td>2</td>\n",
       "      <td>4550</td>\n",
       "      <td>4550</td>\n",
       "      <td>3</td>\n",
       "      <td>6300</td>\n",
       "      <td>6300</td>\n",
       "      <td>231</td>\n",
       "      <td>3303</td>\n",
       "      <td>1</td>\n",
       "    </tr>\n",
       "    <tr>\n",
       "      <th>3</th>\n",
       "      <td>090531711</td>\n",
       "      <td>0</td>\n",
       "      <td>780</td>\n",
       "      <td>780</td>\n",
       "      <td>1</td>\n",
       "      <td>4550</td>\n",
       "      <td>4550</td>\n",
       "      <td>2</td>\n",
       "      <td>4550</td>\n",
       "      <td>4550</td>\n",
       "      <td>3</td>\n",
       "      <td>6300</td>\n",
       "      <td>6300</td>\n",
       "      <td>232</td>\n",
       "      <td>3304</td>\n",
       "      <td>1</td>\n",
       "    </tr>\n",
       "    <tr>\n",
       "      <th>4</th>\n",
       "      <td>090531920</td>\n",
       "      <td>0</td>\n",
       "      <td>780</td>\n",
       "      <td>780</td>\n",
       "      <td>1</td>\n",
       "      <td>4550</td>\n",
       "      <td>4550</td>\n",
       "      <td>2</td>\n",
       "      <td>4550</td>\n",
       "      <td>4550</td>\n",
       "      <td>3</td>\n",
       "      <td>6300</td>\n",
       "      <td>6300</td>\n",
       "      <td>233</td>\n",
       "      <td>3305</td>\n",
       "      <td>1</td>\n",
       "    </tr>\n",
       "  </tbody>\n",
       "</table>\n",
       "</div>"
      ],
      "text/plain": [
       "        Time AnchorID0 Dis0 DisCheck0 AnchorID1  Dis1 DisCheck1 AnchorID2  Dis2 DisCheck2 AnchorID3  Dis3 DisCheck3 DataSerialNum DataNum FileIndex\n",
       "0  090531088         0  760       760         1  4550      4550         2  4550      4550         3  6300      6300           229    3301         1\n",
       "1  090531296         0  760       760         1  4550      4550         2  4550      4550         3  6300      6300           230    3302         1\n",
       "2  090531513         0  770       770         1  4550      4550         2  4550      4550         3  6300      6300           231    3303         1\n",
       "3  090531711         0  780       780         1  4550      4550         2  4550      4550         3  6300      6300           232    3304         1\n",
       "4  090531920         0  780       780         1  4550      4550         2  4550      4550         3  6300      6300           233    3305         1"
      ]
     },
     "execution_count": 14,
     "metadata": {},
     "output_type": "execute_result"
    }
   ],
   "source": [
    "pd_data_merge = pd.DataFrame(merge_data[1:], columns=merge_data[0])\n",
    "pd_data_merge.head()"
   ]
  },
  {
   "cell_type": "markdown",
   "metadata": {},
   "source": [
    "**新的DataFram重新分析一遍**"
   ]
  },
  {
   "cell_type": "code",
   "execution_count": 15,
   "metadata": {},
   "outputs": [
    {
     "name": "stdout",
     "output_type": "stream",
     "text": [
      "Head entries of data:\n",
      "        Time AnchorID0 Dis0 DisCheck0 AnchorID1  Dis1 DisCheck1 AnchorID2  Dis2 DisCheck2 AnchorID3  Dis3 DisCheck3 DataSerialNum DataNum FileIndex\n",
      "0  090531088         0  760       760         1  4550      4550         2  4550      4550         3  6300      6300           229    3301         1\n",
      "1  090531296         0  760       760         1  4550      4550         2  4550      4550         3  6300      6300           230    3302         1\n",
      "2  090531513         0  770       770         1  4550      4550         2  4550      4550         3  6300      6300           231    3303         1\n",
      "3  090531711         0  780       780         1  4550      4550         2  4550      4550         3  6300      6300           232    3304         1\n",
      "4  090531920         0  780       780         1  4550      4550         2  4550      4550         3  6300      6300           233    3305         1\n",
      "############################################################\n",
      "The shape of data:\n",
      "(77122, 16)\n"
     ]
    }
   ],
   "source": [
    "print(\"Head entries of data:\")\n",
    "print(pd_data_merge.head())\n",
    "print(60 * '#')\n",
    "print(\"The shape of data:\")\n",
    "print(pd_data_merge.shape)"
   ]
  },
  {
   "cell_type": "code",
   "execution_count": 16,
   "metadata": {},
   "outputs": [
    {
     "name": "stdout",
     "output_type": "stream",
     "text": [
      "The describe of data:\n",
      "             Time AnchorID0   Dis0 DisCheck0 AnchorID1   Dis1 DisCheck1 AnchorID2   Dis2 DisCheck2 AnchorID3   Dis3 DisCheck3 DataSerialNum DataNum FileIndex\n",
      "count       77122     77122  77122     77122     77122  77122     77122     77122  77122     77122     77122  77122     77122         77122   77122     77122\n",
      "unique      76914         1    544       544         1    498       498         1    471       471         1    526       526           256   42630       324\n",
      "top     173103910         0   4550      4550         1   4550      4550         2   4550      4550         3   4120      4120           244    4626       179\n",
      "freq           13     77122    701       701     77122   1116      1116     77122   1038      1038     77122    714       714           318       7       429\n",
      "############################################################\n",
      "Information for data:\n",
      "<class 'pandas.core.frame.DataFrame'>\n",
      "RangeIndex: 77122 entries, 0 to 77121\n",
      "Data columns (total 16 columns):\n",
      " #   Column         Non-Null Count  Dtype \n",
      "---  ------         --------------  ----- \n",
      " 0   Time           77122 non-null  object\n",
      " 1   AnchorID0      77122 non-null  object\n",
      " 2   Dis0           77122 non-null  object\n",
      " 3   DisCheck0      77122 non-null  object\n",
      " 4   AnchorID1      77122 non-null  object\n",
      " 5   Dis1           77122 non-null  object\n",
      " 6   DisCheck1      77122 non-null  object\n",
      " 7   AnchorID2      77122 non-null  object\n",
      " 8   Dis2           77122 non-null  object\n",
      " 9   DisCheck2      77122 non-null  object\n",
      " 10  AnchorID3      77122 non-null  object\n",
      " 11  Dis3           77122 non-null  object\n",
      " 12  DisCheck3      77122 non-null  object\n",
      " 13  DataSerialNum  77122 non-null  object\n",
      " 14  DataNum        77122 non-null  object\n",
      " 15  FileIndex      77122 non-null  object\n",
      "dtypes: object(16)\n",
      "memory usage: 9.4+ MB\n",
      "None\n"
     ]
    }
   ],
   "source": [
    "print(\"The describe of data:\")\n",
    "print(pd_data_merge.describe())\n",
    "print(60 * '#')\n",
    "print(\"Information for data:\")\n",
    "print(pd_data_merge.info())"
   ]
  },
  {
   "cell_type": "code",
   "execution_count": 17,
   "metadata": {},
   "outputs": [
    {
     "data": {
      "text/html": [
       "<div>\n",
       "<style scoped>\n",
       "    .dataframe tbody tr th:only-of-type {\n",
       "        vertical-align: middle;\n",
       "    }\n",
       "\n",
       "    .dataframe tbody tr th {\n",
       "        vertical-align: top;\n",
       "    }\n",
       "\n",
       "    .dataframe thead th {\n",
       "        text-align: right;\n",
       "    }\n",
       "</style>\n",
       "<table border=\"1\" class=\"dataframe\">\n",
       "  <thead>\n",
       "    <tr style=\"text-align: right;\">\n",
       "      <th></th>\n",
       "      <th>Feature</th>\n",
       "      <th>Unique_values</th>\n",
       "      <th>Percentage of missing values</th>\n",
       "      <th>Percentage of values in the biggest category</th>\n",
       "      <th>type</th>\n",
       "    </tr>\n",
       "  </thead>\n",
       "  <tbody>\n",
       "    <tr>\n",
       "      <th>0</th>\n",
       "      <td>Time</td>\n",
       "      <td>76914</td>\n",
       "      <td>0.0</td>\n",
       "      <td>0.016856</td>\n",
       "      <td>object</td>\n",
       "    </tr>\n",
       "    <tr>\n",
       "      <th>1</th>\n",
       "      <td>AnchorID0</td>\n",
       "      <td>1</td>\n",
       "      <td>0.0</td>\n",
       "      <td>100.000000</td>\n",
       "      <td>object</td>\n",
       "    </tr>\n",
       "    <tr>\n",
       "      <th>2</th>\n",
       "      <td>Dis0</td>\n",
       "      <td>544</td>\n",
       "      <td>0.0</td>\n",
       "      <td>0.908949</td>\n",
       "      <td>object</td>\n",
       "    </tr>\n",
       "    <tr>\n",
       "      <th>3</th>\n",
       "      <td>DisCheck0</td>\n",
       "      <td>544</td>\n",
       "      <td>0.0</td>\n",
       "      <td>0.908949</td>\n",
       "      <td>object</td>\n",
       "    </tr>\n",
       "    <tr>\n",
       "      <th>4</th>\n",
       "      <td>AnchorID1</td>\n",
       "      <td>1</td>\n",
       "      <td>0.0</td>\n",
       "      <td>100.000000</td>\n",
       "      <td>object</td>\n",
       "    </tr>\n",
       "    <tr>\n",
       "      <th>5</th>\n",
       "      <td>Dis1</td>\n",
       "      <td>498</td>\n",
       "      <td>0.0</td>\n",
       "      <td>1.447058</td>\n",
       "      <td>object</td>\n",
       "    </tr>\n",
       "    <tr>\n",
       "      <th>6</th>\n",
       "      <td>DisCheck1</td>\n",
       "      <td>498</td>\n",
       "      <td>0.0</td>\n",
       "      <td>1.447058</td>\n",
       "      <td>object</td>\n",
       "    </tr>\n",
       "    <tr>\n",
       "      <th>7</th>\n",
       "      <td>AnchorID2</td>\n",
       "      <td>1</td>\n",
       "      <td>0.0</td>\n",
       "      <td>100.000000</td>\n",
       "      <td>object</td>\n",
       "    </tr>\n",
       "    <tr>\n",
       "      <th>8</th>\n",
       "      <td>Dis2</td>\n",
       "      <td>471</td>\n",
       "      <td>0.0</td>\n",
       "      <td>1.345919</td>\n",
       "      <td>object</td>\n",
       "    </tr>\n",
       "    <tr>\n",
       "      <th>9</th>\n",
       "      <td>DisCheck2</td>\n",
       "      <td>471</td>\n",
       "      <td>0.0</td>\n",
       "      <td>1.345919</td>\n",
       "      <td>object</td>\n",
       "    </tr>\n",
       "    <tr>\n",
       "      <th>10</th>\n",
       "      <td>AnchorID3</td>\n",
       "      <td>1</td>\n",
       "      <td>0.0</td>\n",
       "      <td>100.000000</td>\n",
       "      <td>object</td>\n",
       "    </tr>\n",
       "    <tr>\n",
       "      <th>11</th>\n",
       "      <td>Dis3</td>\n",
       "      <td>526</td>\n",
       "      <td>0.0</td>\n",
       "      <td>0.925806</td>\n",
       "      <td>object</td>\n",
       "    </tr>\n",
       "    <tr>\n",
       "      <th>12</th>\n",
       "      <td>DisCheck3</td>\n",
       "      <td>526</td>\n",
       "      <td>0.0</td>\n",
       "      <td>0.925806</td>\n",
       "      <td>object</td>\n",
       "    </tr>\n",
       "    <tr>\n",
       "      <th>13</th>\n",
       "      <td>DataSerialNum</td>\n",
       "      <td>256</td>\n",
       "      <td>0.0</td>\n",
       "      <td>0.412334</td>\n",
       "      <td>object</td>\n",
       "    </tr>\n",
       "    <tr>\n",
       "      <th>14</th>\n",
       "      <td>DataNum</td>\n",
       "      <td>42630</td>\n",
       "      <td>0.0</td>\n",
       "      <td>0.009077</td>\n",
       "      <td>object</td>\n",
       "    </tr>\n",
       "    <tr>\n",
       "      <th>15</th>\n",
       "      <td>FileIndex</td>\n",
       "      <td>324</td>\n",
       "      <td>0.0</td>\n",
       "      <td>0.556262</td>\n",
       "      <td>object</td>\n",
       "    </tr>\n",
       "  </tbody>\n",
       "</table>\n",
       "</div>"
      ],
      "text/plain": [
       "          Feature  Unique_values  Percentage of missing values  Percentage of values in the biggest category    type\n",
       "0            Time          76914                           0.0                                      0.016856  object\n",
       "1       AnchorID0              1                           0.0                                    100.000000  object\n",
       "2            Dis0            544                           0.0                                      0.908949  object\n",
       "3       DisCheck0            544                           0.0                                      0.908949  object\n",
       "4       AnchorID1              1                           0.0                                    100.000000  object\n",
       "5            Dis1            498                           0.0                                      1.447058  object\n",
       "6       DisCheck1            498                           0.0                                      1.447058  object\n",
       "7       AnchorID2              1                           0.0                                    100.000000  object\n",
       "8            Dis2            471                           0.0                                      1.345919  object\n",
       "9       DisCheck2            471                           0.0                                      1.345919  object\n",
       "10      AnchorID3              1                           0.0                                    100.000000  object\n",
       "11           Dis3            526                           0.0                                      0.925806  object\n",
       "12      DisCheck3            526                           0.0                                      0.925806  object\n",
       "13  DataSerialNum            256                           0.0                                      0.412334  object\n",
       "14        DataNum          42630                           0.0                                      0.009077  object\n",
       "15      FileIndex            324                           0.0                                      0.556262  object"
      ]
     },
     "execution_count": 17,
     "metadata": {},
     "output_type": "execute_result"
    }
   ],
   "source": [
    "data_unique_miss = show_unique_miss(pd_data_merge)\n",
    "data_unique_miss"
   ]
  },
  {
   "cell_type": "markdown",
   "metadata": {},
   "source": [
    "**Note:** 其实这里的AnchorID(0-4)其实仍然是只有一个值,那个这个其实是没有意义的,可以删除,然后校验值和测试值可能相似度很高,给张图就可以说明问题,然后保留一个就好,就是这个DataSerialNum就是从0~255,不晓得会有什么结果"
   ]
  },
  {
   "cell_type": "code",
   "execution_count": 18,
   "metadata": {},
   "outputs": [
    {
     "data": {
      "text/html": [
       "<div>\n",
       "<style scoped>\n",
       "    .dataframe tbody tr th:only-of-type {\n",
       "        vertical-align: middle;\n",
       "    }\n",
       "\n",
       "    .dataframe tbody tr th {\n",
       "        vertical-align: top;\n",
       "    }\n",
       "\n",
       "    .dataframe thead th {\n",
       "        text-align: right;\n",
       "    }\n",
       "</style>\n",
       "<table border=\"1\" class=\"dataframe\">\n",
       "  <thead>\n",
       "    <tr style=\"text-align: right;\">\n",
       "      <th></th>\n",
       "      <th>Time</th>\n",
       "      <th>Dis0</th>\n",
       "      <th>DisCheck0</th>\n",
       "      <th>Dis1</th>\n",
       "      <th>DisCheck1</th>\n",
       "      <th>Dis2</th>\n",
       "      <th>DisCheck2</th>\n",
       "      <th>Dis3</th>\n",
       "      <th>DisCheck3</th>\n",
       "      <th>DataSerialNum</th>\n",
       "      <th>DataNum</th>\n",
       "      <th>FileIndex</th>\n",
       "    </tr>\n",
       "  </thead>\n",
       "  <tbody>\n",
       "    <tr>\n",
       "      <th>0</th>\n",
       "      <td>090531088</td>\n",
       "      <td>760</td>\n",
       "      <td>760</td>\n",
       "      <td>4550</td>\n",
       "      <td>4550</td>\n",
       "      <td>4550</td>\n",
       "      <td>4550</td>\n",
       "      <td>6300</td>\n",
       "      <td>6300</td>\n",
       "      <td>229</td>\n",
       "      <td>3301</td>\n",
       "      <td>1</td>\n",
       "    </tr>\n",
       "    <tr>\n",
       "      <th>1</th>\n",
       "      <td>090531296</td>\n",
       "      <td>760</td>\n",
       "      <td>760</td>\n",
       "      <td>4550</td>\n",
       "      <td>4550</td>\n",
       "      <td>4550</td>\n",
       "      <td>4550</td>\n",
       "      <td>6300</td>\n",
       "      <td>6300</td>\n",
       "      <td>230</td>\n",
       "      <td>3302</td>\n",
       "      <td>1</td>\n",
       "    </tr>\n",
       "    <tr>\n",
       "      <th>2</th>\n",
       "      <td>090531513</td>\n",
       "      <td>770</td>\n",
       "      <td>770</td>\n",
       "      <td>4550</td>\n",
       "      <td>4550</td>\n",
       "      <td>4550</td>\n",
       "      <td>4550</td>\n",
       "      <td>6300</td>\n",
       "      <td>6300</td>\n",
       "      <td>231</td>\n",
       "      <td>3303</td>\n",
       "      <td>1</td>\n",
       "    </tr>\n",
       "    <tr>\n",
       "      <th>3</th>\n",
       "      <td>090531711</td>\n",
       "      <td>780</td>\n",
       "      <td>780</td>\n",
       "      <td>4550</td>\n",
       "      <td>4550</td>\n",
       "      <td>4550</td>\n",
       "      <td>4550</td>\n",
       "      <td>6300</td>\n",
       "      <td>6300</td>\n",
       "      <td>232</td>\n",
       "      <td>3304</td>\n",
       "      <td>1</td>\n",
       "    </tr>\n",
       "    <tr>\n",
       "      <th>4</th>\n",
       "      <td>090531920</td>\n",
       "      <td>780</td>\n",
       "      <td>780</td>\n",
       "      <td>4550</td>\n",
       "      <td>4550</td>\n",
       "      <td>4550</td>\n",
       "      <td>4550</td>\n",
       "      <td>6300</td>\n",
       "      <td>6300</td>\n",
       "      <td>233</td>\n",
       "      <td>3305</td>\n",
       "      <td>1</td>\n",
       "    </tr>\n",
       "  </tbody>\n",
       "</table>\n",
       "</div>"
      ],
      "text/plain": [
       "        Time Dis0 DisCheck0  Dis1 DisCheck1  Dis2 DisCheck2  Dis3 DisCheck3 DataSerialNum DataNum FileIndex\n",
       "0  090531088  760       760  4550      4550  4550      4550  6300      6300           229    3301         1\n",
       "1  090531296  760       760  4550      4550  4550      4550  6300      6300           230    3302         1\n",
       "2  090531513  770       770  4550      4550  4550      4550  6300      6300           231    3303         1\n",
       "3  090531711  780       780  4550      4550  4550      4550  6300      6300           232    3304         1\n",
       "4  090531920  780       780  4550      4550  4550      4550  6300      6300           233    3305         1"
      ]
     },
     "execution_count": 18,
     "metadata": {},
     "output_type": "execute_result"
    }
   ],
   "source": [
    "# Delete features that nunique = 1\n",
    "pd_data_merge2 = pd_data_merge.drop(['AnchorID0', 'AnchorID1', 'AnchorID2', 'AnchorID3'], axis = 1)\n",
    "pd_data_merge2.head()"
   ]
  },
  {
   "cell_type": "code",
   "execution_count": 19,
   "metadata": {},
   "outputs": [
    {
     "name": "stdout",
     "output_type": "stream",
     "text": [
      "The shape of data:\n",
      "(77122, 12)\n",
      "############################################################\n",
      "The describe of data:\n",
      "             Time   Dis0 DisCheck0   Dis1 DisCheck1   Dis2 DisCheck2   Dis3 DisCheck3 DataSerialNum DataNum FileIndex\n",
      "count       77122  77122     77122  77122     77122  77122     77122  77122     77122         77122   77122     77122\n",
      "unique      76914    544       544    498       498    471       471    526       526           256   42630       324\n",
      "top     173103910   4550      4550   4550      4550   4550      4550   4120      4120           244    4626       179\n",
      "freq           13    701       701   1116      1116   1038      1038    714       714           318       7       429\n",
      "############################################################\n",
      "Information for data:\n",
      "<class 'pandas.core.frame.DataFrame'>\n",
      "RangeIndex: 77122 entries, 0 to 77121\n",
      "Data columns (total 12 columns):\n",
      " #   Column         Non-Null Count  Dtype \n",
      "---  ------         --------------  ----- \n",
      " 0   Time           77122 non-null  object\n",
      " 1   Dis0           77122 non-null  object\n",
      " 2   DisCheck0      77122 non-null  object\n",
      " 3   Dis1           77122 non-null  object\n",
      " 4   DisCheck1      77122 non-null  object\n",
      " 5   Dis2           77122 non-null  object\n",
      " 6   DisCheck2      77122 non-null  object\n",
      " 7   Dis3           77122 non-null  object\n",
      " 8   DisCheck3      77122 non-null  object\n",
      " 9   DataSerialNum  77122 non-null  object\n",
      " 10  DataNum        77122 non-null  object\n",
      " 11  FileIndex      77122 non-null  object\n",
      "dtypes: object(12)\n",
      "memory usage: 7.1+ MB\n",
      "None\n"
     ]
    }
   ],
   "source": [
    "print(\"The shape of data:\")\n",
    "print(pd_data_merge2.shape)\n",
    "print(60 * '#')\n",
    "print(\"The describe of data:\")\n",
    "print(pd_data_merge2.describe())\n",
    "print(60 * '#')\n",
    "print(\"Information for data:\")\n",
    "print(pd_data_merge2.info())"
   ]
  },
  {
   "cell_type": "code",
   "execution_count": 20,
   "metadata": {},
   "outputs": [
    {
     "name": "stdout",
     "output_type": "stream",
     "text": [
      "File saved, processing end!\n"
     ]
    }
   ],
   "source": [
    "data_txt_merge2 = []\n",
    "data_txt_merge2.append(pd_data_merge2.columns.tolist())\n",
    "data_txt_merge2 += pd_data_merge2.values.tolist()\n",
    "data_write_csv('normal_merge2.csv', data_txt_merge2)"
   ]
  },
  {
   "cell_type": "markdown",
   "metadata": {},
   "source": [
    "## 4.变量分析"
   ]
  },
  {
   "cell_type": "markdown",
   "metadata": {},
   "source": [
    "对于连续性单变量可视化查看观察值的分布"
   ]
  },
  {
   "cell_type": "code",
   "execution_count": 21,
   "metadata": {},
   "outputs": [
    {
     "data": {
      "text/plain": [
       "array([[<AxesSubplot:title={'center':'Dis0'}>,\n",
       "        <AxesSubplot:title={'center':'DisCheck0'}>,\n",
       "        <AxesSubplot:title={'center':'Dis1'}>],\n",
       "       [<AxesSubplot:title={'center':'DisCheck1'}>,\n",
       "        <AxesSubplot:title={'center':'Dis2'}>,\n",
       "        <AxesSubplot:title={'center':'DisCheck2'}>],\n",
       "       [<AxesSubplot:title={'center':'Dis3'}>,\n",
       "        <AxesSubplot:title={'center':'DisCheck3'}>, <AxesSubplot:>]],\n",
       "      dtype=object)"
      ]
     },
     "execution_count": 21,
     "metadata": {},
     "output_type": "execute_result"
    },
    {
     "data": {
      "image/png": "[encoded data removed]",
      "text/plain": [
       "<Figure size 1152x1440 with 9 Axes>"
      ]
     },
     "metadata": {
      "needs_background": "light"
     },
     "output_type": "display_data"
    }
   ],
   "source": [
    "import seaborn as sns\n",
    "import matplotlib as mpl\n",
    "from matplotlib import pyplot as plt\n",
    "\n",
    "pd_data_merge2 = pd_data_merge2.apply(pd.to_numeric, errors='ignore')\n",
    "# print(pd_data_merge2.info())\n",
    "df_num = pd_data_merge2.select_dtypes(include=['float64', 'int64'])\n",
    "df_num = df_num[df_num.columns.tolist()[1:9]]\n",
    "df_num.hist(figsize=(16,20), bins=50, xlabelsize=8,ylabelsize=8)"
   ]
  },
  {
   "cell_type": "markdown",
   "metadata": {},
   "source": [
    "相关性分析"
   ]
  },
  {
   "cell_type": "code",
   "execution_count": 113,
   "metadata": {},
   "outputs": [
    {
     "data": {
      "text/plain": [
       "<AxesSubplot:>"
      ]
     },
     "execution_count": 113,
     "metadata": {},
     "output_type": "execute_result"
    },
    {
     "data": {
      "image/png": "[encoded data removed]",
      "text/plain": [
       "<Figure size 1440x648 with 2 Axes>"
      ]
     },
     "metadata": {
      "needs_background": "light"
     },
     "output_type": "display_data"
    }
   ],
   "source": [
    "corrmat = pd_data_merge2.corr()\n",
    "f, ax = plt.subplots(figsize=(20,9))\n",
    "sns.heatmap(corrmat, vmax=0.8, square=True)"
   ]
  },
  {
   "cell_type": "markdown",
   "metadata": {},
   "source": [
    "距离值与距离校验值完全是正相关的,且相关值接近1,可以将校验值删除"
   ]
  },
  {
   "cell_type": "code",
   "execution_count": 115,
   "metadata": {},
   "outputs": [
    {
     "name": "stdout",
     "output_type": "stream",
     "text": [
      "(77122, 8)\n"
     ]
    },
    {
     "data": {
      "text/html": [
       "<div>\n",
       "<style scoped>\n",
       "    .dataframe tbody tr th:only-of-type {\n",
       "        vertical-align: middle;\n",
       "    }\n",
       "\n",
       "    .dataframe tbody tr th {\n",
       "        vertical-align: top;\n",
       "    }\n",
       "\n",
       "    .dataframe thead th {\n",
       "        text-align: right;\n",
       "    }\n",
       "</style>\n",
       "<table border=\"1\" class=\"dataframe\">\n",
       "  <thead>\n",
       "    <tr style=\"text-align: right;\">\n",
       "      <th></th>\n",
       "      <th>Time</th>\n",
       "      <th>Dis0</th>\n",
       "      <th>Dis1</th>\n",
       "      <th>Dis2</th>\n",
       "      <th>Dis3</th>\n",
       "      <th>DataSerialNum</th>\n",
       "      <th>DataNum</th>\n",
       "      <th>FileIndex</th>\n",
       "    </tr>\n",
       "  </thead>\n",
       "  <tbody>\n",
       "    <tr>\n",
       "      <th>0</th>\n",
       "      <td>90531088</td>\n",
       "      <td>760</td>\n",
       "      <td>4550</td>\n",
       "      <td>4550</td>\n",
       "      <td>6300</td>\n",
       "      <td>229</td>\n",
       "      <td>3301</td>\n",
       "      <td>1</td>\n",
       "    </tr>\n",
       "    <tr>\n",
       "      <th>1</th>\n",
       "      <td>90531296</td>\n",
       "      <td>760</td>\n",
       "      <td>4550</td>\n",
       "      <td>4550</td>\n",
       "      <td>6300</td>\n",
       "      <td>230</td>\n",
       "      <td>3302</td>\n",
       "      <td>1</td>\n",
       "    </tr>\n",
       "    <tr>\n",
       "      <th>2</th>\n",
       "      <td>90531513</td>\n",
       "      <td>770</td>\n",
       "      <td>4550</td>\n",
       "      <td>4550</td>\n",
       "      <td>6300</td>\n",
       "      <td>231</td>\n",
       "      <td>3303</td>\n",
       "      <td>1</td>\n",
       "    </tr>\n",
       "    <tr>\n",
       "      <th>3</th>\n",
       "      <td>90531711</td>\n",
       "      <td>780</td>\n",
       "      <td>4550</td>\n",
       "      <td>4550</td>\n",
       "      <td>6300</td>\n",
       "      <td>232</td>\n",
       "      <td>3304</td>\n",
       "      <td>1</td>\n",
       "    </tr>\n",
       "    <tr>\n",
       "      <th>4</th>\n",
       "      <td>90531920</td>\n",
       "      <td>780</td>\n",
       "      <td>4550</td>\n",
       "      <td>4550</td>\n",
       "      <td>6300</td>\n",
       "      <td>233</td>\n",
       "      <td>3305</td>\n",
       "      <td>1</td>\n",
       "    </tr>\n",
       "  </tbody>\n",
       "</table>\n",
       "</div>"
      ],
      "text/plain": [
       "       Time  Dis0  Dis1  Dis2  Dis3  DataSerialNum  DataNum  FileIndex\n",
       "0  90531088   760  4550  4550  6300            229     3301          1\n",
       "1  90531296   760  4550  4550  6300            230     3302          1\n",
       "2  90531513   770  4550  4550  6300            231     3303          1\n",
       "3  90531711   780  4550  4550  6300            232     3304          1\n",
       "4  90531920   780  4550  4550  6300            233     3305          1"
      ]
     },
     "execution_count": 115,
     "metadata": {},
     "output_type": "execute_result"
    }
   ],
   "source": [
    "# Delete features that Positive correlation\n",
    "pd_data_merge3 = pd_data_merge2.drop(['DisCheck0', 'DisCheck1', 'DisCheck2', 'DisCheck3'], axis = 1)\n",
    "print(pd_data_merge3.shape)\n",
    "pd_data_merge3.head()"
   ]
  },
  {
   "cell_type": "code",
   "execution_count": 116,
   "metadata": {},
   "outputs": [
    {
     "name": "stdout",
     "output_type": "stream",
     "text": [
      "File saved, processing end!\n"
     ]
    }
   ],
   "source": [
    "data_txt_merge3 = []\n",
    "data_txt_merge3.append(pd_data_merge3.columns.tolist())\n",
    "data_txt_merge3 += pd_data_merge3.values.tolist()\n",
    "data_write_csv('normal_merge3.csv', data_txt_merge3)"
   ]
  },
  {
   "cell_type": "code",
   "execution_count": 120,
   "metadata": {},
   "outputs": [
    {
     "data": {
      "text/plain": [
       "array([[<AxesSubplot:title={'center':'Dis0'}>,\n",
       "        <AxesSubplot:title={'center':'Dis1'}>],\n",
       "       [<AxesSubplot:title={'center':'Dis2'}>,\n",
       "        <AxesSubplot:title={'center':'Dis3'}>]], dtype=object)"
      ]
     },
     "execution_count": 120,
     "metadata": {},
     "output_type": "execute_result"
    },
    {
     "data": {
      "image/png": "[encoded data removed]",
      "text/plain": [
       "<Figure size 1152x1440 with 4 Axes>"
      ]
     },
     "metadata": {
      "needs_background": "light"
     },
     "output_type": "display_data"
    }
   ],
   "source": [
    "pd_data_merge3 = pd_data_merge3.apply(pd.to_numeric, errors='ignore')\n",
    "# print(pd_data_merge2.info())\n",
    "df_num = pd_data_merge3.select_dtypes(include=['float64', 'int64'])\n",
    "df_num = df_num[df_num.columns.tolist()[1:5]]\n",
    "df_num.hist(figsize=(16,20), bins=50, xlabelsize=8,ylabelsize=8)"
   ]
  },
  {
   "cell_type": "markdown",
   "metadata": {},
   "source": [
    "## 特征工程"
   ]
  }
 ],
 "metadata": {
  "interpreter": {
   "hash": "739b7fde0239f970fe471183831ce779383fd06bd8b94b3de65ce716bb351d82"
  },
  "kernelspec": {
   "display_name": "Python 3",
   "language": "python",
   "name": "python3"
  },
  "language_info": {
   "codemirror_mode": {
    "name": "ipython",
    "version": 3
   },
   "file_extension": ".py",
   "mimetype": "text/x-python",
   "name": "python",
   "nbconvert_exporter": "python",
   "pygments_lexer": "ipython3",
   "version": "3.8.5"
  }
 },
 "nbformat": 4,
 "nbformat_minor": 4
}
