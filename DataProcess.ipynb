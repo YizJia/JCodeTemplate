{
 "cells": [
  {
   "cell_type": "markdown",
   "metadata": {},
   "source": [
    "# Data Process"
   ]
  },
  {
   "cell_type": "markdown",
   "metadata": {},
   "source": [
    "In this file, I will focus on the way the data is handled.\n",
    "\n",
    "The writing of this document was inspired by the mathmatical modeling competition that ended a while ago. The raw data is stored in a variety of formats, and templating the code for reading and processing the data helps me categorize the methods.\n",
    "\n",
    "This document will use Python. Using other coding languages (e.g. matlab) will be given in other documents."
   ]
  },
  {
   "cell_type": "markdown",
   "metadata": {},
   "source": [
    "## 1. Read data"
   ]
  },
  {
   "cell_type": "markdown",
   "metadata": {},
   "source": [
    "### 1.1 Read data from txt"
   ]
  }
 ],
 "metadata": {
  "interpreter": {
   "hash": "09acf896645036cc5bece0cb6ee2c207b557efa7969b040a78939d96dba5d2c6"
  },
  "kernelspec": {
   "display_name": "Python 3.8.12 64-bit ('base': conda)",
   "name": "python3"
  },
  "language_info": {
   "codemirror_mode": {
    "name": "ipython",
    "version": 3
   },
   "file_extension": ".py",
   "mimetype": "text/x-python",
   "name": "python",
   "nbconvert_exporter": "python",
   "pygments_lexer": "ipython3",
   "version": "3.8.12"
  },
  "orig_nbformat": 4
 },
 "nbformat": 4,
 "nbformat_minor": 2
}
